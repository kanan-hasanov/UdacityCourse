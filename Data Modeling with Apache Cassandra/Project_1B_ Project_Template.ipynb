{
 "cells": [
  {
   "cell_type": "markdown",
   "metadata": {
    "editable": true
   },
   "source": [
    "# Part I. ETL Pipeline for Pre-Processing the Files"
   ]
  },
  {
   "cell_type": "markdown",
   "metadata": {
    "editable": true
   },
   "source": [
    "#### Import Python packages "
   ]
  },
  {
   "cell_type": "code",
   "execution_count": 4,
   "metadata": {
    "editable": true
   },
   "outputs": [],
   "source": [
    "# Import Python packages \n",
    "import pandas as pd\n",
    "import cassandra\n",
    "import re\n",
    "import os\n",
    "import glob\n",
    "import numpy as np\n",
    "import json\n",
    "import csv"
   ]
  },
  {
   "cell_type": "markdown",
   "metadata": {
    "editable": true
   },
   "source": [
    "#### Creating list of filepaths to process original event csv data files"
   ]
  },
  {
   "cell_type": "code",
   "execution_count": 5,
   "metadata": {
    "editable": true
   },
   "outputs": [
    {
     "name": "stdout",
     "output_type": "stream",
     "text": [
      "/home/workspace\n"
     ]
    }
   ],
   "source": [
    "# checking current working directory\n",
    "print(os.getcwd())\n",
    "\n",
    "# Get current folder and subfolder event data\n",
    "filepath = os.getcwd() + '/event_data'\n",
    "\n",
    "# Create a for loop to create a list of files and collect each filepath\n",
    "for root, dirs, files in os.walk(filepath):\n",
    "    \n",
    "# join the file path and roots with the subdirectories using glob\n",
    "    file_path_list = glob.glob(os.path.join(root,'*'))\n",
    "#     print(file_path_list)"
   ]
  },
  {
   "cell_type": "markdown",
   "metadata": {
    "editable": true
   },
   "source": [
    "#### Processing the files to create the data file csv that will be used for Apache Casssandra tables"
   ]
  },
  {
   "cell_type": "code",
   "execution_count": 6,
   "metadata": {
    "editable": true
   },
   "outputs": [
    {
     "name": "stdout",
     "output_type": "stream",
     "text": [
      "6821\n"
     ]
    }
   ],
   "source": [
    "# check the number of rows in csv file\n",
    "with open('event_datafile_new.csv', 'r', encoding = 'utf8') as f:\n",
    "    print(sum(1 for line in f))"
   ]
  },
  {
   "cell_type": "code",
   "execution_count": 7,
   "metadata": {
    "editable": true
   },
   "outputs": [
    {
     "name": "stdout",
     "output_type": "stream",
     "text": [
      "\"artist\",\"firstName\",\"gender\",\"itemInSession\",\"lastName\",\"length\",\"level\",\"location\",\"sessionId\",\"song\",\"userId\"\n",
      "\n"
     ]
    }
   ],
   "source": [
    "# check column headers in csv file\n",
    "with open('event_datafile_new.csv', 'r', encoding = 'utf8') as f:\n",
    "    print([line for line in f][0])"
   ]
  },
  {
   "cell_type": "markdown",
   "metadata": {
    "editable": true
   },
   "source": [
    "\n",
    "\n",
    "## The event_datafile_new.csv contains the following columns: \n",
    "- artist \n",
    "- firstName of user\n",
    "- gender of user\n",
    "- item number in session\n",
    "- last name of user\n",
    "- length of the song\n",
    "- level (paid or free song)\n",
    "- location of the user\n",
    "- sessionId\n",
    "- song title\n",
    "- userId\n",
    "\n",
    "The image below is a screenshot of what the denormalized data should appear like in the <font color=red>**event_datafile_new.csv**</font> after the code above is run:<br>\n",
    "\n",
    "<img src=\"images/image_event_datafile_new.jpg\">"
   ]
  },
  {
   "cell_type": "markdown",
   "metadata": {
    "editable": true
   },
   "source": [
    "#### Creating a Cluster"
   ]
  },
  {
   "cell_type": "code",
   "execution_count": 8,
   "metadata": {
    "editable": true
   },
   "outputs": [],
   "source": [
    "# This should make a connection to a Cassandra instance your local machine \n",
    "# (127.0.0.1)\n",
    "\n",
    "import cassandra\n",
    "\n",
    "from cassandra.cluster import Cluster\n",
    "\n",
    "try:\n",
    "    cluster = Cluster(['127.0.0.1'])\n",
    "# To establish connection and begin executing queries, need a session\n",
    "    session = cluster.connect()\n",
    "except Exception as e:\n",
    "    print(e)"
   ]
  },
  {
   "cell_type": "markdown",
   "metadata": {
    "editable": true
   },
   "source": [
    "#### Creating Keyspace"
   ]
  },
  {
   "cell_type": "code",
   "execution_count": 9,
   "metadata": {
    "editable": true
   },
   "outputs": [],
   "source": [
    "# Creating a keyspace\n",
    "try:\n",
    "    session.execute(\"\"\"\n",
    "    CREATE KEYSPACE IF NOT EXISTS udacity \n",
    "    WITH REPLICATION = \n",
    "    { 'class' : 'SimpleStrategy', 'replication_factor' : 1 }\"\"\"\n",
    ")\n",
    "\n",
    "except Exception as e:\n",
    "    print(e)"
   ]
  },
  {
   "cell_type": "markdown",
   "metadata": {
    "editable": true
   },
   "source": [
    "#### Setting Keyspace"
   ]
  },
  {
   "cell_type": "code",
   "execution_count": 10,
   "metadata": {
    "editable": true
   },
   "outputs": [],
   "source": [
    "# Setting KEYSPACE to the keyspace specified above\n",
    "try:\n",
    "    session.set_keyspace('udacity')\n",
    "except Exception as e:\n",
    "    print(e)"
   ]
  },
  {
   "cell_type": "markdown",
   "metadata": {
    "editable": true
   },
   "source": [
    "## Task:\n",
    "Create queries to ask the following three questions of the data\n",
    "1. Give me the artist, song title and song's length in the music app history that was heard during sessionId = 338, and itemInSession = 4\n",
    "2. Give me only the following: name of artist, song (sorted by itemInSession) and user (first and last name) for userid = 10, sessionid = 182\n",
    "3. Give me every user name (first and last) in my music app history who listened to the song 'All Hands Against His Own'"
   ]
  },
  {
   "cell_type": "markdown",
   "metadata": {
    "editable": true
   },
   "source": [
    "### To answer above questions we need to create three tables with different Primary keys and populate that tables with data from given file.\n",
    "#### First, initiating a list of table names and then dropping tables from the list in Cassandra."
   ]
  },
  {
   "cell_type": "code",
   "execution_count": 14,
   "metadata": {
    "editable": true
   },
   "outputs": [
    {
     "name": "stdout",
     "output_type": "stream",
     "text": [
      "drop TABLE IF EXISTS session_item\n",
      "drop TABLE IF EXISTS user_item\n",
      "drop TABLE IF EXISTS user_song\n"
     ]
    }
   ],
   "source": [
    "# Initiate list of tables\n",
    "tables = ['session_item','user_item','user_song']\n",
    "\n",
    "# Remove table if its already exist\n",
    "for table in tables:\n",
    "    query = \"drop TABLE IF EXISTS \"\n",
    "    query += table \n",
    "    print(query)\n",
    "    try:\n",
    "        session.execute(query)\n",
    "    except Exception as e:\n",
    "        print(e)"
   ]
  },
  {
   "cell_type": "markdown",
   "metadata": {
    "editable": true
   },
   "source": [
    "#### Second, we loop through the list of tables and create each table according to given questions"
   ]
  },
  {
   "cell_type": "code",
   "execution_count": 15,
   "metadata": {
    "editable": true
   },
   "outputs": [
    {
     "name": "stdout",
     "output_type": "stream",
     "text": [
      "CREATE TABLE IF NOT EXISTS session_item (sessionId int, itemInSession int, artist text, firstName text, gender text,\n",
      "lastName text, length float, level text, location text, song text, userId int,  PRIMARY KEY (sessionId, itemInSession))\n",
      "CREATE TABLE IF NOT EXISTS user_item (userId int, sessionId int, itemInSession int, artist text, firstName text, gender text, \n",
      "lastName text, length float, level text, location text, song text, PRIMARY KEY ((userId, sessionId), itemInSession)) WITH CLUSTERING ORDER BY (itemInSession ASC)\n",
      "CREATE TABLE IF NOT EXISTS user_song (song text, userId int, artist text, firstName text, gender text, itemInSession int, sessionId int, lastName text, length float, level text, location text, PRIMARY KEY (song, userId))\n"
     ]
    }
   ],
   "source": [
    "# count is a variable to check index of table name in the initiated tables list\n",
    "count = 0\n",
    "\n",
    "for table in tables:\n",
    "    query = \"CREATE TABLE IF NOT EXISTS \"\n",
    "    query += table\n",
    "    if count == 0:\n",
    "        \n",
    "# For Query 1: Primary Key has two fields: sessionId is the partition key, and itemInSession are clustering keys.\n",
    "# Partitioning is done by sessionId and within that partition, rows are ordered by the itemInSession.\n",
    "# Create Table \"session_item\". \n",
    "        query += \"\"\" (sessionId int, itemInSession int, artist text, firstName text, gender text,\n",
    "lastName text, length float, level text, location text, song text, userId int,  PRIMARY KEY (sessionId, itemInSession))\"\"\"\n",
    "    \n",
    "# For Query 2: Primary Key has three fields: userid and sessionid are the partition key, and itemInSession is clustering key.\n",
    "# Partitioning is done by userid and sessionid, and within that partition, rows are ordered by the itemInSession.\n",
    "# Create Table \"user_item\".\n",
    "    elif count == 1:\n",
    "        query += \"\"\" (userId int, sessionId int, itemInSession int, artist text, firstName text, gender text, \n",
    "lastName text, length float, level text, location text, song text, PRIMARY KEY ((userId, sessionId), itemInSession)) WITH CLUSTERING ORDER BY (itemInSession ASC)\"\"\"\n",
    "        \n",
    "# For Query 3: Primary Key has two fields: song is the partition key, and userid is clustering key.\n",
    "# Partitioning is done by song and within that partition, rows are ordered by the userid.\n",
    "# Create Table \"user_song\".\n",
    "    elif count == 2:\n",
    "        query += \"\"\" (song text, userId int, artist text, firstName text, gender text, itemInSession int, sessionId int, lastName text, length float, level text, location text, PRIMARY KEY (song, userId))\"\"\"\n",
    "    count +=1\n",
    "    print(query)\n",
    "\n",
    "    try:\n",
    "        session.execute(query)\n",
    "    except Exception as e:\n",
    "        print(e)"
   ]
  },
  {
   "cell_type": "markdown",
   "metadata": {
    "editable": true
   },
   "source": [
    "#### Third, we populate created above tables with data from provided file"
   ]
  },
  {
   "cell_type": "code",
   "execution_count": 16,
   "metadata": {
    "editable": true
   },
   "outputs": [],
   "source": [
    "# count is a variable to check index of table name in the initiated tables list\n",
    "count = 0\n",
    "\n",
    "file = 'event_datafile_new.csv'\n",
    "\n",
    "for table in tables:\n",
    "    query = \"INSERT INTO \"+table\n",
    "    \n",
    "    # Insert into table 'session_item':\n",
    "    if count == 0:\n",
    "\n",
    "        query += \" (sessionId, itemInSession, artist , firstName , gender , lastName , length , level , location ,  song , userId) \"\n",
    "        query += \" VALUES (%s, %s, %s, %s, %s, %s, %s, %s, %s, %s, %s)\"\n",
    "        \n",
    "        with open(file, encoding = 'utf8') as f:\n",
    "            csvreader = csv.reader(f)\n",
    "            next(csvreader) # skip header\n",
    "            for line in csvreader:\n",
    "                try:\n",
    "                    session.execute(query, (int(line[8]),int(line[3]),line[0],line[1],line[2],line[4],float(line[5]),line[6],line[7],line[9],int(line[10])))\n",
    "                except Exception as e:\n",
    "                    print(e)\n",
    "                    \n",
    "    # Insert into table 'user_item':\n",
    "    elif count == 1:\n",
    "\n",
    "        query += \" (userId, sessionId, itemInSession, artist, firstName , gender , lastName , length , level , location ,  song ) \"\n",
    "        query += \" VALUES (%s, %s, %s, %s, %s, %s, %s, %s, %s, %s, %s)\"\n",
    "        \n",
    "        with open(file, encoding = 'utf8') as f:\n",
    "            csvreader = csv.reader(f)\n",
    "            next(csvreader) # skip header\n",
    "            for line in csvreader:\n",
    "                try:\n",
    "                    session.execute(query, (int(line[10]),int(line[8]),int(line[3]),line[0],line[1],line[2],line[4],float(line[5]),line[6],line[7],line[9]))\n",
    "                except Exception as e:\n",
    "                    print(e)\n",
    "                    \n",
    "   # Insert into table 'user_song':\n",
    "    elif count == 2:\n",
    "\n",
    "        query += \" (song, userId, artist , firstName , gender, itemInSession, sessionId, lastName , length , level , location) \"\n",
    "        query += \" VALUES (%s, %s, %s, %s, %s, %s, %s, %s, %s, %s, %s)\"\n",
    "        \n",
    "        with open(file, encoding = 'utf8') as f:\n",
    "            csvreader = csv.reader(f)\n",
    "            next(csvreader) # skip header\n",
    "            for line in csvreader:\n",
    "                try:\n",
    "                    session.execute(query, (line[9],int(line[10]),line[0],line[1],line[2],int(line[3]),int(line[8]),line[4],float(line[5]),line[6],line[7]))\n",
    "                except Exception as e:\n",
    "                    print(e)\n",
    "\n",
    "    count +=1            \n",
    "            "
   ]
  },
  {
   "cell_type": "markdown",
   "metadata": {
    "editable": true
   },
   "source": [
    "### Now we should check number of rows inserted into each table"
   ]
  },
  {
   "cell_type": "code",
   "execution_count": 17,
   "metadata": {
    "editable": true
   },
   "outputs": [
    {
     "name": "stdout",
     "output_type": "stream",
     "text": [
      "Row(count=6820)\n",
      "Row(count=6820)\n",
      "Row(count=6618)\n"
     ]
    }
   ],
   "source": [
    "for table in tables:\n",
    "    query = \"select count(*) from \" +table\n",
    "    try:\n",
    "        rows = session.execute(query)\n",
    "    except Exception as e:\n",
    "        print(e)\n",
    "\n",
    "    for row in rows:\n",
    "        print (row)"
   ]
  },
  {
   "cell_type": "markdown",
   "metadata": {
    "editable": true
   },
   "source": [
    "### Query 1:  Give me the artist, song title and song's length in the music app history that was heard during sessionId = 338, and itemInSession = 4"
   ]
  },
  {
   "cell_type": "code",
   "execution_count": 18,
   "metadata": {
    "editable": true
   },
   "outputs": [
    {
     "name": "stdout",
     "output_type": "stream",
     "text": [
      "Faithless Music Matters (Mark Knight Dub) 495.30731201171875\n"
     ]
    }
   ],
   "source": [
    "query = \"select artist, song, length from session_item where sessionId=338 and  itemInSession = 4\"\n",
    "try:\n",
    "    rows = session.execute(query)\n",
    "except Exception as e:\n",
    "    print(e)\n",
    "    \n",
    "for row in rows:\n",
    "    print (row.artist, row.song, row.length)"
   ]
  },
  {
   "cell_type": "markdown",
   "metadata": {
    "editable": true
   },
   "source": [
    "### Query 2: Give me only the following: name of artist, song (sorted by itemInSession) and user (first and last name) for userid = 10, sessionid = 182"
   ]
  },
  {
   "cell_type": "code",
   "execution_count": 19,
   "metadata": {
    "editable": true
   },
   "outputs": [
    {
     "name": "stdout",
     "output_type": "stream",
     "text": [
      "Down To The Bone Keep On Keepin' On Sylvie Cruz\n",
      "Three Drives Greece 2000 Sylvie Cruz\n",
      "Sebastien Tellier Kilometer Sylvie Cruz\n",
      "Lonnie Gordon Catch You Baby (Steve Pitron & Max Sanna Radio Edit) Sylvie Cruz\n"
     ]
    }
   ],
   "source": [
    "query = \"select artist, song, firstName, lastName from user_item where userid = 10 and sessionid = 182\"\n",
    "try:\n",
    "    rows = session.execute(query)\n",
    "except Exception as e:\n",
    "    print(e)\n",
    "for row in rows:\n",
    "    print (row.artist, row.song, row.firstname, row.lastname)\n",
    "                    "
   ]
  },
  {
   "cell_type": "markdown",
   "metadata": {
    "editable": true
   },
   "source": [
    "### Query 3: Give me every user name (first and last) in my music app history who listened to the song 'All Hands Against His Own'"
   ]
  },
  {
   "cell_type": "code",
   "execution_count": 20,
   "metadata": {
    "editable": true
   },
   "outputs": [
    {
     "name": "stdout",
     "output_type": "stream",
     "text": [
      "Jacqueline Lynch\n",
      "Tegan Levine\n",
      "Sara Johnson\n"
     ]
    }
   ],
   "source": [
    "query = \"select firstname, lastname from user_song where song ='All Hands Against His Own'\"\n",
    "try:\n",
    "    rows = session.execute(query)\n",
    "except Exception as e:\n",
    "    print(e)\n",
    "    \n",
    "for row in rows:\n",
    "    print ( row.firstname, row.lastname)\n",
    "\n",
    "                    \n",
    "                    "
   ]
  },
  {
   "cell_type": "markdown",
   "metadata": {
    "editable": true
   },
   "source": [
    "### Drop the tables before closing out the sessions"
   ]
  },
  {
   "cell_type": "code",
   "execution_count": 21,
   "metadata": {
    "editable": true
   },
   "outputs": [
    {
     "name": "stdout",
     "output_type": "stream",
     "text": [
      "drop TABLE IF EXISTS session_item\n",
      "drop TABLE IF EXISTS user_item\n",
      "drop TABLE IF EXISTS user_song\n"
     ]
    }
   ],
   "source": [
    "for table in tables:\n",
    "    query = \"drop TABLE IF EXISTS \"\n",
    "    query += table \n",
    "    print(query)\n",
    "    try:\n",
    "        session.execute(query)\n",
    "    except Exception as e:\n",
    "        print(e)"
   ]
  },
  {
   "cell_type": "markdown",
   "metadata": {
    "editable": true
   },
   "source": [
    "### Close the session and cluster connection¶"
   ]
  },
  {
   "cell_type": "code",
   "execution_count": 22,
   "metadata": {
    "editable": true
   },
   "outputs": [],
   "source": [
    "session.shutdown()\n",
    "cluster.shutdown()"
   ]
  },
  {
   "cell_type": "code",
   "execution_count": null,
   "metadata": {
    "editable": true
   },
   "outputs": [],
   "source": []
  },
  {
   "cell_type": "code",
   "execution_count": null,
   "metadata": {
    "editable": true
   },
   "outputs": [],
   "source": []
  }
 ],
 "metadata": {
  "kernelspec": {
   "display_name": "Python 3",
   "language": "python",
   "name": "python3"
  },
  "language_info": {
   "codemirror_mode": {
    "name": "ipython",
    "version": 3
   },
   "file_extension": ".py",
   "mimetype": "text/x-python",
   "name": "python",
   "nbconvert_exporter": "python",
   "pygments_lexer": "ipython3",
   "version": "3.6.3"
  }
 },
 "nbformat": 4,
 "nbformat_minor": 4
}
